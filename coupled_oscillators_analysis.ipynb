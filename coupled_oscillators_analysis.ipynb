{
 "cells": [
  {
   "cell_type": "markdown",
   "metadata": {},
   "source": [
    "# Dos osciladores lineales acoplados\n",
    "\n",
    "## Solución analítica del sistema acoplado\n",
    "\n",
    "Para dos osciladores lineales acoplados idénticos, con masas $m_1 = m_2 = m$  y constantes de resorte $\\kappa_1 = \\kappa_2 = \\kappa$, las ecuaciones de movimiento acopladas son:\n",
    "\n",
    "$$m \\ddot{q}_1 = -\\kappa q_1 - \\kappa_{12} (q_1 - q_2) $$\n",
    "\n",
    "$$m \\ddot{q}_2 = -\\kappa q_2 - \\kappa_{12} (q_2 - q_1)$$\n",
    "\n",
    "Estas ecuaciones pueden reescribirse como:\n",
    "\n",
    "$$\\ddot{q}_1 + \\omega_0^2 q_1 - \\omega_{12}^2 (q_2 - q_1) = 0$$\n",
    "\n",
    "$$\\ddot{q}_2 + \\omega_0^2 q_2 - \\omega_{12}^2 (q_1 - q_2) = 0$$\n",
    "\n",
    "donde $\\omega_0^2 = \\frac{\\kappa}{m}$ y $\\omega_{12}^2 = \\frac{\\kappa_{12}}{m}$.\n",
    "\n",
    "## Coordenadas normales\n",
    "\n",
    "Para desacoplar el sistema, introducimos coordenadas normales:\n",
    "\n",
    "$$\\eta_1 = \\frac{1}{\\sqrt{2}} (q_1 + q_2)$$\n",
    "\n",
    "$$\\eta_2 = \\frac{1}{\\sqrt{2}} (q_1 - q_2) $$\n",
    "\n",
    "En estas coordenadas, las ecuaciones se desacoplan:\n",
    "\n",
    "$$\\ddot{\\eta}_1 + \\omega_1^2 \\eta_1 = 0 $$\n",
    "\n",
    "$$\\ddot{\\eta}_2 + \\omega_2^2 \\eta_2 = 0 $$\n",
    "\n",
    "donde las frecuencias normales son:\n",
    "\n",
    "$$\\omega_1 = \\omega_0 \\quad \\text{(modo simétrico)}\n",
    "$$\n",
    "\n",
    "$$\\omega_2 = \\sqrt{\\omega_0^2 + 2\\omega_{12}^2} \\quad \\text{(modo antisimétrico)} $$\n",
    "\n",
    "## Solución general\n",
    "\n",
    "La solución general en coordenadas normales es:\n",
    "\n",
    "$$\\eta_1(t) = C_1 \\cos(\\omega_1 t + \\phi_1) $$\n",
    "\n",
    "$$\\eta_2(t) = C_2 \\cos(\\omega_2 t + \\phi_2) $$\n",
    "\n",
    "Transformando de vuelta a las coordenadas originales:\n",
    "\n",
    "$$q_1(t) = \\frac{1}{\\sqrt{2}} [\\eta_1(t) + \\eta_2(t)]$$\n",
    "\n",
    "$$q_2(t) = \\frac{1}{\\sqrt{2}} [\\eta_1(t) - \\eta_2(t)]$$\n",
    "\n",
    "## Modos normales\n",
    "\n",
    "1. **Modo simétrico** ($\\eta_2 = 0$):\n",
    "$$   q_1(t) = q_2(t) = \\frac{C_1}{\\sqrt{2}} \\cos(\\omega_1 t + \\phi_1)$$\n",
    "   Ambas masas oscilan en fase con frecuencia \\( \\omega_1 \\).\n",
    "\n",
    "2. **Modo antisimétrico** ($\\eta_1 = 0$):\n",
    "   $$q_1(t) = -q_2(t) = \\frac{C_2}{\\sqrt{2}} \\cos(\\omega_2 t + \\phi_2)$$\n",
    "   Las masas oscilan en oposición de fase con frecuencia \\( $\\omega_2$ \\)."
   ]
  },
  {
   "cell_type": "code",
   "execution_count": 1,
   "metadata": {},
   "outputs": [],
   "source": [
    "import numpy as np\n",
    "import matplotlib.pyplot as plt\n",
    "import os"
   ]
  },
  {
   "cell_type": "code",
   "execution_count": 2,
   "metadata": {},
   "outputs": [],
   "source": [
    "def load_data(file_path=\"data/data.dat\"):\n",
    "    \"\"\"Carga los datos desde el archivo .dat\"\"\"\n",
    "    data = np.loadtxt(file_path, skiprows=1)\n",
    "    t, x1, v1, x2, v2, E_kin, E_pot, E_tot = data.T\n",
    "    return t, x1, v1, x2, v2, E_kin, E_pot, E_tot"
   ]
  },
  {
   "cell_type": "code",
   "execution_count": null,
   "metadata": {},
   "outputs": [],
   "source": [
    "# Plotting functions: \n",
    "\n",
    "def plot_positions_vs_time(file_path=\"data/data.dat\", show=True, save=False, filename=\"\"):\n",
    "    \"\"\"\n",
    "    Grafica las posiciones de ambos osciladores en función del tiempo.\n",
    "    \"\"\"\n",
    "    t, x1, _, x2, _, _ , _, _= load_data(file_path)\n",
    "    \n",
    "    plt.figure(figsize=(10, 6))\n",
    "    plt.plot(t, x1, label='Oscilador 1 ($x_1$)')\n",
    "    plt.plot(t, x2, label='Oscilador 2 ($x_2$)', linestyle='--')\n",
    "    \n",
    "    plt.title('Posición vs Tiempo para Osciladores Acoplados')\n",
    "    plt.xlabel('Tiempo (s)')\n",
    "    plt.ylabel('Posición (m)')\n",
    "    plt.grid(True)\n",
    "    plt.legend()\n",
    "    \n",
    "    if save:\n",
    "        os.makedirs(\"plots\", exist_ok=True)\n",
    "        fname = f\"plots/{filename}_positions.png\" if filename else \"plots/positions_vs_time.png\"\n",
    "        plt.savefig(fname, dpi=300)\n",
    "    if show:\n",
    "        plt.show()\n",
    "    plt.close()\n",
    "\n",
    "def plot_phase_space(file_path=\"data/data.dat\", show=True, save=False, filename=\"\"):\n",
    "    \"\"\"\n",
    "    Grafica los espacios de fase (x vs v) para cada oscilador.\n",
    "    \"\"\"\n",
    "    _, x1, v1, x2, v2, _, _, _ = load_data(file_path)\n",
    "    \n",
    "    fig, (ax1, ax2) = plt.subplots(1, 2, figsize=(12, 5))\n",
    "    \n",
    "    # Espacio de fase para el oscilador 1\n",
    "    ax1.plot(x1, v1, color='tab:blue')\n",
    "    ax1.set_title('Espacio de Fase: Oscilador 1')\n",
    "    ax1.set_xlabel('Posición (m)')\n",
    "    ax1.set_ylabel('Velocidad (m/s)')\n",
    "    ax1.grid(True)\n",
    "    \n",
    "    # Espacio de fase para el oscilador 2\n",
    "    ax2.plot(x2, v2, color='tab:orange')\n",
    "    ax2.set_title('Espacio de Fase: Oscilador 2')\n",
    "    ax2.set_xlabel('Posición (m)')\n",
    "    ax2.set_ylabel('Velocidad (m/s)')\n",
    "    ax2.grid(True)\n",
    "    \n",
    "    plt.tight_layout()\n",
    "    \n",
    "    if save:\n",
    "        os.makedirs(\"plots\", exist_ok=True)\n",
    "        fname = f\"plots/{filename}_phase_space.png\" if filename else \"plots/phase_space.png\"\n",
    "        plt.savefig(fname, dpi=300)\n",
    "    if show:\n",
    "        plt.show()\n",
    "    plt.close()\n",
    "\n",
    "def plot_energy_vs_time(file_path=\"data/data.dat\", show=True, save=False, filename=\"\"):\n",
    "    \"\"\"\n",
    "    Grafica la energía del sistema en función del tiempo.\n",
    "    \"\"\"\n",
    "    t, x1, v1, x2, v2, E_kin, E_pot, E_tot = load_data(file_path)\n",
    "    \n",
    "    plt.figure(figsize=(10, 6))\n",
    "    plt.plot(t, E_tot, label='Energía Total', color='black', linewidth=2, linestyle='-')\n",
    "    plt.plot(t, E_kin, label='Energía Cinética', color='blue', linewidth=1.5, linestyle='--')\n",
    "    plt.plot(t, E_pot, label='Energía Potencial', color='red', linewidth=1.5, linestyle='-.')\n",
    "\n",
    "    plt.title('Energía del Sistema')\n",
    "    plt.xlabel('Tiempo (s)')\n",
    "    plt.ylabel('Energía (J)')\n",
    "    plt.grid(True)\n",
    "    plt.legend()\n",
    "        \n",
    "    if save:\n",
    "        os.makedirs(\"plots\", exist_ok=True)\n",
    "        fname = f\"plots/{filename}_energy.png\" if filename else \"plots/energy_vs_time.png\"\n",
    "        plt.savefig(fname, dpi=300)\n",
    "    if show:\n",
    "        plt.show()\n",
    "    plt.close()\n",
    "\n",
    "def plot_all_analysis(file_path=\"data/data.dat\", show=True, save=False, filename_prefix=\"\"):\n",
    "    \"\"\"\n",
    "    Ejecuta todas las funciones de graficación en secuencia.    \n",
    "    \"\"\"\n",
    "    plot_positions_vs_time(file_path, show, save, filename_prefix)\n",
    "    plot_phase_space(file_path, show, save, filename_prefix)\n",
    "    plot_energy_vs_time(file_path, show, save, filename_prefix)"
   ]
  },
  {
   "cell_type": "markdown",
   "metadata": {},
   "source": [
    "## Analisis de resultados"
   ]
  },
  {
   "cell_type": "markdown",
   "metadata": {},
   "source": [
    "### **Modos normales puros**\n",
    "\n",
    "#### **Posición vs Tiempo**\n",
    "<div style=\"display: flex; justify-content: center; text-align: center;\">\n",
    "    <div style=\"margin: 10px;\">\n",
    "        <img src=\"plots/symmetric_positions.png\" width=\"100%\">\n",
    "        <p><b>Modo Simétrico</b></p>\n",
    "    </div>\n",
    "    <div style=\"margin: 10px;\">\n",
    "        <img src=\"plots/asymmetric_positions.png\" width=\"100%\">\n",
    "        <p><b>Modo Antisimétrico</b></p>\n",
    "    </div>\n",
    "</div>\n",
    "\n",
    "**Análisis:**\n",
    "- **Modo simétrico**: Ambas masas oscilan en fase con idéntica amplitud (0.1 m) y frecuencia  \n",
    "  $ \\omega_1 = \\sqrt{\\frac{k}{m}} = 1.0 $ rad/s (período $ T \\approx 6.28 $ s). Las curvas son perfectamente superpuestas.\n",
    "- **Modo antisimétrico**: Las masas oscilan en oposición de fase (desfase de $ \\pi $ radianes) con frecuencia mayor  \n",
    "  $ \\omega_2 = \\sqrt{\\frac{k+2\\kappa}{m}} = \\sqrt{2} \\approx 1.414 $ rad/s (período $ T \\approx 4.44 $ s). Se observa simetría especular.\n",
    "- En ambos casos no hay intercambio de energía entre los osciladores (comportamiento puro de modo normal).\n",
    "\n",
    "#### Espacio fase\n",
    "<div style=\"display: flex; justify-content: center; text-align: center;\">\n",
    "    <div style=\"margin: 10px;\">\n",
    "        <img src=\"plots/symmetric_phase_space.png\" width=\"100%\">\n",
    "        <p><b>Modo Simétrico</b></p>\n",
    "    </div>\n",
    "    <div style=\"margin: 10px;\">\n",
    "        <img src=\"plots/asymmetric_phase_space.png\" width=\"100%\">\n",
    "        <p><b>Modo Antisimétrico</b></p>\n",
    "    </div>\n",
    "</div>\n",
    "\n",
    "**Análisis:**\n",
    "- **Modo simétrico**: \n",
    "  - Ambos osciladores describen elipses idénticas en el espacio fase (x vs v), indicando movimiento armónico simple sincronizado.\n",
    "  - La relación amplitud máxima de velocidad/posición es  \n",
    "    $ \\frac{v_{\\max}}{x_{\\max}} = \\omega_1 = 1.0 $ (pendiente característica).\n",
    "- **Modo antisimétrico**:\n",
    "  - Las trayectorias en espacio fase son elipses con mayor pendiente  \n",
    "    $ \\frac{v_{\\max}}{x_{\\max}} = \\omega_2 \\approx 1.414 $, reflejando la mayor frecuencia.\n",
    "  - Las elipses están invertidas entre sí (correspondiendo al desfase de $ \\pi $).\n",
    "- La forma cerrada de las curvas confirma el comportamiento periódico estable.\n",
    "\n",
    "#### Energía\n",
    "<div style=\"display: flex; justify-content: center; text-align: center;\">\n",
    "    <div style=\"margin: 10px;\">\n",
    "        <img src=\"plots/symmetric_energy.png\" width=\"100%\">\n",
    "        <p><b>Modo Simétrico</b></p>\n",
    "    </div>\n",
    "    <div style=\"margin: 10px;\">\n",
    "        <img src=\"plots/asymmetric_energy.png\" width=\"100%\">\n",
    "        <p><b>Modo Antisimétrico</b></p>\n",
    "    </div>\n",
    "</div>\n",
    "\n",
    "**Análisis:**\n",
    "- **Conservación de energía**: Ambos sistemas muestran energía total constante ($ \\Delta E < 0.01\\% $), verificando que la integración numérica preserva la energía mecánica.\n",
    "- **Modo simétrico**:\n",
    "  - La energía potencial del acoplamiento es cero ($ x_1 \\equiv x_2 \\Rightarrow (x_1 - x_2)^2 = 0 $).\n",
    "  - La energía total  \n",
    "    $$\n",
    "    E = \\frac{1}{2} k (0.1)^2 + \\frac{1}{2} k (0.1)^2 = 0.01 \\text{ J}.\n",
    "    $$\n",
    "- **Modo antisimétrico**:\n",
    "  - La energía incluye contribución del acoplamiento:  \n",
    "    $$\n",
    "    E = \\frac{1}{2} k (0.1)^2 + \\frac{1}{2} k (-0.1)^2 + \\frac{1}{2} \\kappa (0.2)^2 = 0.03 \\text{ J}.\n",
    "    $$\n",
    "  - Se observa mayor amplitud de oscilación en las energías cinética y potencial individuales, pero con suma constante.\n",
    "- La frecuencia de intercambio energía cinética-potencial es el doble de la frecuencia de oscilación (típico en sistemas armónicos).\n",
    "\n",
    "### Conclusiones\n",
    "1. Los modos normales exhiben frecuencias características $ \\omega_1 $ y $ \\omega_2 $ como predice la teoría:  \n",
    "   - $ \\omega_1 = \\sqrt{\\frac{k}{m}} = 1.0 $ rad/s (modo simétrico)  \n",
    "   - $ \\omega_2 = \\sqrt{\\frac{k+2\\kappa}{m}} \\approx 1.414 $ rad/s (modo antisimétrico)\n",
    "\n",
    "2. El acoplamiento afecta solo al modo antisimétrico, aumentando su frecuencia.\n",
    "\n",
    "3. La energía se distribuye diferentemente entre componentes:\n",
    "   - **Modo simétrico**: Energía puramente en resortes externos.\n",
    "   - **Modo antisimétrico**: 66% de la energía en el acoplamiento, 33% en los resortes externos.\n",
    "\n",
    "4. La conservación de energía ($ \\Delta E \\approx 0 $) valida el método numérico usado.\n"
   ]
  },
  {
   "cell_type": "code",
   "execution_count": 4,
   "metadata": {},
   "outputs": [
    {
     "name": "stdout",
     "output_type": "stream",
     "text": [
      "Simulación completada. Datos guardados en data/symmetric.dat\n",
      "Simulación completada. Datos guardados en data/asymmetric.dat\n"
     ]
    }
   ],
   "source": [
    "!python double_coupled_oscillator_system.py --x1_0 0.1 --x2_0 0.1 --v1_0 0.0 --v2_0 0.0 --k 1.0 --k_coupling 0.5 --filename \"symmetric\"\n",
    "!python double_coupled_oscillator_system.py --x1_0 0.1 --x2_0 -0.1 --v1_0 0.0 --v2_0 0.0 --k 1.0 --k_coupling 0.5 --filename \"asymmetric\""
   ]
  },
  {
   "cell_type": "code",
   "execution_count": 5,
   "metadata": {},
   "outputs": [],
   "source": [
    "filenames = [\"symmetric\", \"asymmetric\"]\n",
    "for filename in filenames: \n",
    "    plot_all_analysis(file_path=f\"data/{filename}.dat\",filename_prefix=filename, show=False, save=True)"
   ]
  },
  {
   "cell_type": "markdown",
   "metadata": {},
   "source": [
    "### **Batimiento**\n",
    "\n",
    "#### Espacio fase\n",
    "<div style=\"display: flex; justify-content: center; text-align: center;\">\n",
    "    <div style=\"margin: 10px;\">\n",
    "        <img src=\"plots/mixed_phase_space.png\" width=\"70%\">\n",
    "    </div>\n",
    "</div>\n",
    "\n",
    "**Análisis del espacio fase:**\n",
    "- Se observan trayectorias complejas que forman figuras de Lissajous, indicando la superposición de dos frecuencias ($\\omega_1$ y $\\omega_2$)\n",
    "- Los lazos cerrados muestran periodicidad en el intercambio de energía entre osciladores\n",
    "- La amplitud máxima de velocidad es mayor para el oscilador inicialmente excitado ($x_1$), mostrando transferencia completa de energía\n",
    "\n",
    "#### Energía\n",
    "<div style=\"display: flex; justify-content: center; text-align: center;\">\n",
    "    <div style=\"margin: 10px;\">\n",
    "        <img src=\"plots/mixed_energy.png\" width=\"70%\">\n",
    "    </div>\n",
    "</div>\n",
    "\n",
    "**Análisis energético:**\n",
    "1. **Transferencia periódica**:\n",
    "   - La energía total se mantiene constante ($\\Delta E$ < 0.1%), verificando conservación\n",
    "   - Oscilación completa entre:\n",
    "     - Estado inicial: 100% energía en oscilador 1 (E_pot = $\\frac{1}{2}mv^2$ = 0.005 J)\n",
    "     - Estado transferido: 100% energía en oscilador 2\n",
    "\n",
    "2. **Frecuencia de batimiento**:\n",
    "   - Período de intercambio: $T_{mixed}$ $\\approx 2\\pi/(\\omega_2 - \\omega_1)\\approx $ 62.8 s (para $\\kappa=0.1$)\n",
    "   - Coincide con los máximos observados en la gráfica de energía\n",
    "\n",
    "3. **Comportamiento característico**:\n",
    "   - Cuando un oscilador alcanza energía máxima, el otro tiene energía mínima\n",
    "   - La energía de acoplamiento ($\\kappa$) es significativa solo durante la transferencia\n",
    "   - La energía cinética domina durante los cruces por cero de posición"
   ]
  },
  {
   "cell_type": "code",
   "execution_count": 6,
   "metadata": {},
   "outputs": [
    {
     "name": "stdout",
     "output_type": "stream",
     "text": [
      "Simulación completada. Datos guardados en data/mixed.dat\n"
     ]
    }
   ],
   "source": [
    "!python double_coupled_oscillator_system.py --x1_0 0.1 --x2_0 0.0 --v1_0 0.0 --v2_0 0.0 --k 1.0 --k_coupling 0.1 --t_max 100.0 --filename \"mixed\""
   ]
  },
  {
   "cell_type": "code",
   "execution_count": 7,
   "metadata": {},
   "outputs": [],
   "source": [
    "filename = \"mixed\"\n",
    "plot_all_analysis(file_path=f\"data/{filename}.dat\",filename_prefix=filename, show=False, save=True)"
   ]
  },
  {
   "cell_type": "markdown",
   "metadata": {},
   "source": [
    "## **Resonancia**\n",
    "\n",
    "#### Energía\n",
    "<div style=\"display: flex; justify-content: center; text-align: center;\">\n",
    "    <div style=\"margin: 10px;\">\n",
    "        <img src=\"plots/resonance_omega1_energy.png\" width=\"100%\">\n",
    "        <p><b>Resonancia ω₁</b></p>\n",
    "    </div>\n",
    "    <div style=\"margin: 10px;\">\n",
    "        <img src=\"plots/resonance_omega2_energy.png\" width=\"100%\">\n",
    "        <p><b>Resonancia ω₂</b></p>\n",
    "    </div>\n",
    "</div>\n",
    "\n",
    "**Análisis energético comparativo:**\n",
    "\n",
    "| Característica              | Resonancia $\\omega_1$ ($\\kappa=0.5$) | Resonancia $\\omega_2$ ($\\kappa=2.0$) |\n",
    "|-----------------------------|---------------------------------|---------------------------------|\n",
    "| **Energía total inicial**   | $0.5 m v_1^2 = 0.5$ J          | $0.5 m v_1^2 = 0.5$ J          |\n",
    "| **Distribución energética** | $98\\%$ en oscilador 1          | Máxima transferencia ($50\\%-50\\%$) |\n",
    "| **Frecuencia dominante**    | $\\omega_1 = 1.0$ rad/s         | $\\omega_2 = \\sqrt{1+2 \\cdot 2} \\approx 2.24$ rad/s |\n",
    "| **Conservación de energía** | $\\Delta E < 0.01\\%$           | $\\Delta E < 0.05\\%$ (mayor complejidad) |\n",
    "| **Energía de acoplamiento** | $< 2\\%$ de $E_{\\text{total}}$  | Hasta $40\\%$ de $E_{\\text{total}}$ |\n",
    "\n",
    "**Efectos de resonancia observados:**\n",
    "1. **Para $\\omega_1$**:\n",
    "   - El sistema funciona como oscilador casi independiente.\n",
    "   - La energía potencial de acoplamiento es despreciable.\n",
    "   - $90\\%$ de la energía permanece en el oscilador inicial.\n",
    "\n",
    "2. **Para $\\omega_2$**:\n",
    "   - Transferencia completa de energía entre osciladores.\n",
    "   - La energía cinética muestra pulsaciones a frecuencia $(\\omega_2 - \\omega_1)$.\n",
    "   - La energía potencial de acoplamiento alcanza el $40\\%$ del total.\n",
    "   - Se excita eficientemente el modo antisimétrico.\n",
    "\n",
    "**Relación con parámetros:**\n",
    "- La resonancia $\\omega_2$ requiere $\\kappa$ grande para acoplamiento efectivo.\n",
    "- La energía de excitación se distribuye según la relación $\\kappa / k$:\n",
    "  - $\\kappa / k = 0.5 \\rightarrow$ Localización en oscilador 1.\n",
    "  - $\\kappa / k = 2.0 \\rightarrow$ Distribución equitativa.\n"
   ]
  },
  {
   "cell_type": "code",
   "execution_count": 10,
   "metadata": {},
   "outputs": [
    {
     "name": "stdout",
     "output_type": "stream",
     "text": [
      "Simulación completada. Datos guardados en data/resonance_omega1.dat\n",
      "Simulación completada. Datos guardados en data/resonance_omega2.dat\n"
     ]
    }
   ],
   "source": [
    "!python double_coupled_oscillator_system.py --x1_0 0.0 --v1_0 1.0 --x2_0 0.0 --v2_0 0.0 --k 1.0 --k_coupling 0.5 --t_max 50.0 --filename \"resonance_omega1\"\n",
    "!python double_coupled_oscillator_system.py --x1_0 0.0 --v1_0 1.0 --x2_0 0.0 --v2_0 0.0 --k 1.0 --k_coupling 2.0 --t_max 50.0 --filename \"resonance_omega2\""
   ]
  },
  {
   "cell_type": "code",
   "execution_count": 11,
   "metadata": {},
   "outputs": [],
   "source": [
    "filenames = [\"resonance_omega1\", \"resonance_omega2\"]\n",
    "for filename in filenames: \n",
    "    plot_all_analysis(file_path=f\"data/{filename}.dat\",filename_prefix=filename, show=False, save=True)"
   ]
  },
  {
   "cell_type": "markdown",
   "metadata": {},
   "source": [
    "### **Acoplamiento fuerte vs débil**"
   ]
  },
  {
   "cell_type": "code",
   "execution_count": 8,
   "metadata": {},
   "outputs": [
    {
     "name": "stdout",
     "output_type": "stream",
     "text": [
      "Simulación completada. Datos guardados en data/weak_coupling.dat\n",
      "Simulación completada. Datos guardados en data/strong_coupling.dat\n"
     ]
    }
   ],
   "source": [
    "!python double_coupled_oscillator_system.py --k_coupling 0.05 --filename \"weak_coupling\"\n",
    "!python double_coupled_oscillator_system.py --k_coupling 5.0 --filename \"strong_coupling\""
   ]
  },
  {
   "cell_type": "code",
   "execution_count": 13,
   "metadata": {},
   "outputs": [],
   "source": [
    "filenames = [\"weak_coupling\", \"strong_coupling\"]\n",
    "for filename in filenames: \n",
    "    plot_all_analysis(file_path=f\"data/{filename}.dat\",filename_prefix=filename, show=False, save=True)"
   ]
  }
 ],
 "metadata": {
  "kernelspec": {
   "display_name": "Python (virt_imp)",
   "language": "python",
   "name": "virt_imp"
  },
  "language_info": {
   "codemirror_mode": {
    "name": "ipython",
    "version": 3
   },
   "file_extension": ".py",
   "mimetype": "text/x-python",
   "name": "python",
   "nbconvert_exporter": "python",
   "pygments_lexer": "ipython3",
   "version": "3.12.4"
  }
 },
 "nbformat": 4,
 "nbformat_minor": 2
}
